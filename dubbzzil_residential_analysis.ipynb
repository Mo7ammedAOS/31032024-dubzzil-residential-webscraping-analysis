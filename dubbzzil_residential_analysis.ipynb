{
 "cells": [
  {
   "cell_type": "code",
   "execution_count": 1,
   "id": "66330ed1-6031-49e0-8ccd-20b45b2b898e",
   "metadata": {},
   "outputs": [],
   "source": [
    "import pandas as pd\n",
    "import"
   ]
  },
  {
   "cell_type": "code",
   "execution_count": 18,
   "id": "e2038e74-a5fb-4e2a-9a3e-c8c4e8c33db3",
   "metadata": {},
   "outputs": [
    {
     "data": {
      "text/html": [
       "<div>\n",
       "<style scoped>\n",
       "    .dataframe tbody tr th:only-of-type {\n",
       "        vertical-align: middle;\n",
       "    }\n",
       "\n",
       "    .dataframe tbody tr th {\n",
       "        vertical-align: top;\n",
       "    }\n",
       "\n",
       "    .dataframe thead th {\n",
       "        text-align: right;\n",
       "    }\n",
       "</style>\n",
       "<table border=\"1\" class=\"dataframe\">\n",
       "  <thead>\n",
       "    <tr style=\"text-align: right;\">\n",
       "      <th></th>\n",
       "      <th>Price</th>\n",
       "      <th>Bedroom_Number</th>\n",
       "      <th>Bath_Number</th>\n",
       "      <th>Area</th>\n",
       "      <th>Location</th>\n",
       "      <th>Classification</th>\n",
       "      <th>Furnishing</th>\n",
       "      <th>Post_on</th>\n",
       "    </tr>\n",
       "  </thead>\n",
       "  <tbody>\n",
       "    <tr>\n",
       "      <th>0</th>\n",
       "      <td>125000</td>\n",
       "      <td>1</td>\n",
       "      <td>2</td>\n",
       "      <td>909</td>\n",
       "      <td>Sanibel Tower, Park Island, Dubai Marina, Duba...</td>\n",
       "      <td>Apartment</td>\n",
       "      <td>Unfurnished</td>\n",
       "      <td>31st March 2024</td>\n",
       "    </tr>\n",
       "    <tr>\n",
       "      <th>1</th>\n",
       "      <td>155000</td>\n",
       "      <td>2</td>\n",
       "      <td>2</td>\n",
       "      <td>1146</td>\n",
       "      <td>Sobha Hartland, Dubai, UAE</td>\n",
       "      <td>Apartment</td>\n",
       "      <td>Unfurnished</td>\n",
       "      <td>31st March 2024</td>\n",
       "    </tr>\n",
       "    <tr>\n",
       "      <th>2</th>\n",
       "      <td>73000</td>\n",
       "      <td>1</td>\n",
       "      <td>1</td>\n",
       "      <td>571</td>\n",
       "      <td>Azizi Riviera 19, Azizi Riviera, Meydan One, M...</td>\n",
       "      <td>Apartment</td>\n",
       "      <td>Unfurnished</td>\n",
       "      <td>31st March 2024</td>\n",
       "    </tr>\n",
       "    <tr>\n",
       "      <th>3</th>\n",
       "      <td>300000</td>\n",
       "      <td>4</td>\n",
       "      <td>6</td>\n",
       "      <td>1632</td>\n",
       "      <td>Park Villas, JVC District 10, Jumeirah Village...</td>\n",
       "      <td>Villa</td>\n",
       "      <td>Furnished</td>\n",
       "      <td>31st March 2024</td>\n",
       "    </tr>\n",
       "    <tr>\n",
       "      <th>4</th>\n",
       "      <td>52000</td>\n",
       "      <td>1</td>\n",
       "      <td>1</td>\n",
       "      <td>422</td>\n",
       "      <td>Jewelz by Danube, Arjan, Dubai, UAE</td>\n",
       "      <td>Apartment</td>\n",
       "      <td>Furnished</td>\n",
       "      <td>31st March 2024</td>\n",
       "    </tr>\n",
       "    <tr>\n",
       "      <th>...</th>\n",
       "      <td>...</td>\n",
       "      <td>...</td>\n",
       "      <td>...</td>\n",
       "      <td>...</td>\n",
       "      <td>...</td>\n",
       "      <td>...</td>\n",
       "      <td>...</td>\n",
       "      <td>...</td>\n",
       "    </tr>\n",
       "    <tr>\n",
       "      <th>135</th>\n",
       "      <td>60000</td>\n",
       "      <td>1</td>\n",
       "      <td>1</td>\n",
       "      <td>1208</td>\n",
       "      <td>Avencia, DAMAC Hills 2 (Akoya by DAMAC), Dubai...</td>\n",
       "      <td>Apartment</td>\n",
       "      <td>Unfurnished</td>\n",
       "      <td>30th March 2024</td>\n",
       "    </tr>\n",
       "    <tr>\n",
       "      <th>136</th>\n",
       "      <td>145000</td>\n",
       "      <td>2</td>\n",
       "      <td>3</td>\n",
       "      <td>1409</td>\n",
       "      <td>Zumurud Tower, Dubai Marina, Dubai, UAE</td>\n",
       "      <td>Apartment</td>\n",
       "      <td>Unfurnished</td>\n",
       "      <td>30th March 2024</td>\n",
       "    </tr>\n",
       "    <tr>\n",
       "      <th>137</th>\n",
       "      <td>60000</td>\n",
       "      <td>1</td>\n",
       "      <td>1</td>\n",
       "      <td>370</td>\n",
       "      <td>Zumurud Tower, Dubai Marina, Dubai, UAE</td>\n",
       "      <td>Apartment</td>\n",
       "      <td>Unfurnished</td>\n",
       "      <td>30th March 2024</td>\n",
       "    </tr>\n",
       "    <tr>\n",
       "      <th>138</th>\n",
       "      <td>140000</td>\n",
       "      <td>2</td>\n",
       "      <td>3</td>\n",
       "      <td>1398</td>\n",
       "      <td>Art XIV14, Business Bay, Dubai, UAE</td>\n",
       "      <td>Apartment</td>\n",
       "      <td>Unfurnished</td>\n",
       "      <td>30th March 2024</td>\n",
       "    </tr>\n",
       "    <tr>\n",
       "      <th>139</th>\n",
       "      <td>100000</td>\n",
       "      <td>1</td>\n",
       "      <td>2</td>\n",
       "      <td>760</td>\n",
       "      <td>District 7, Mohammed Bin Rashid City, Dubai, UAE</td>\n",
       "      <td>Apartment</td>\n",
       "      <td>Unfurnished</td>\n",
       "      <td>30th March 2024</td>\n",
       "    </tr>\n",
       "  </tbody>\n",
       "</table>\n",
       "<p>140 rows × 8 columns</p>\n",
       "</div>"
      ],
      "text/plain": [
       "      Price  Bedroom_Number  Bath_Number  Area  \\\n",
       "0    125000               1            2   909   \n",
       "1    155000               2            2  1146   \n",
       "2     73000               1            1   571   \n",
       "3    300000               4            6  1632   \n",
       "4     52000               1            1   422   \n",
       "..      ...             ...          ...   ...   \n",
       "135   60000               1            1  1208   \n",
       "136  145000               2            3  1409   \n",
       "137   60000               1            1   370   \n",
       "138  140000               2            3  1398   \n",
       "139  100000               1            2   760   \n",
       "\n",
       "                                              Location Classification  \\\n",
       "0    Sanibel Tower, Park Island, Dubai Marina, Duba...      Apartment   \n",
       "1                           Sobha Hartland, Dubai, UAE      Apartment   \n",
       "2    Azizi Riviera 19, Azizi Riviera, Meydan One, M...      Apartment   \n",
       "3    Park Villas, JVC District 10, Jumeirah Village...          Villa   \n",
       "4                  Jewelz by Danube, Arjan, Dubai, UAE      Apartment   \n",
       "..                                                 ...            ...   \n",
       "135  Avencia, DAMAC Hills 2 (Akoya by DAMAC), Dubai...      Apartment   \n",
       "136            Zumurud Tower, Dubai Marina, Dubai, UAE      Apartment   \n",
       "137            Zumurud Tower, Dubai Marina, Dubai, UAE      Apartment   \n",
       "138                Art XIV14, Business Bay, Dubai, UAE      Apartment   \n",
       "139   District 7, Mohammed Bin Rashid City, Dubai, UAE      Apartment   \n",
       "\n",
       "      Furnishing           Post_on  \n",
       "0    Unfurnished   31st March 2024  \n",
       "1    Unfurnished   31st March 2024  \n",
       "2    Unfurnished   31st March 2024  \n",
       "3      Furnished   31st March 2024  \n",
       "4      Furnished   31st March 2024  \n",
       "..           ...               ...  \n",
       "135  Unfurnished   30th March 2024  \n",
       "136  Unfurnished   30th March 2024  \n",
       "137  Unfurnished   30th March 2024  \n",
       "138  Unfurnished   30th March 2024  \n",
       "139  Unfurnished   30th March 2024  \n",
       "\n",
       "[140 rows x 8 columns]"
      ]
     },
     "execution_count": 18,
     "metadata": {},
     "output_type": "execute_result"
    }
   ],
   "source": [
    "df = pd.read_csv('dubzzile.csv')\n",
    "\n",
    "# print(df['Classification'].value_counts())\n",
    "# print(df.describe())\n",
    "\n",
    "\n",
    "pd.set_option('display.max_columns',8)\n",
    "pd.set_option('display.max_rows',40)\n",
    "df"
   ]
  },
  {
   "cell_type": "code",
   "execution_count": 15,
   "id": "096e01be-1209-4658-9e0f-b8e5ae2ce918",
   "metadata": {},
   "outputs": [
    {
     "data": {
      "text/plain": [
       "<Axes: ylabel='Price'>"
      ]
     },
     "execution_count": 15,
     "metadata": {},
     "output_type": "execute_result"
    },
    {
     "data": {
      "image/png": "[encoded data removed]",
      "text/plain": [
       "<Figure size 640x480 with 1 Axes>"
      ]
     },
     "metadata": {},
     "output_type": "display_data"
    }
   ],
   "source": [
    "df['Price'].value_counts().head(10).plot(kind='barh')"
   ]
  },
  {
   "cell_type": "code",
   "execution_count": 12,
   "id": "7a087d77-efcc-4a9a-9c2e-d5662bafe2ca",
   "metadata": {},
   "outputs": [
    {
     "data": {
      "text/plain": [
       "<Axes: ylabel='count'>"
      ]
     },
     "execution_count": 12,
     "metadata": {},
     "output_type": "execute_result"
    },
    {
     "data": {
      "image/png": "[encoded data removed]",
      "text/plain": [
       "<Figure size 640x480 with 1 Axes>"
      ]
     },
     "metadata": {},
     "output_type": "display_data"
    }
   ],
   "source": [
    "df['Classification'].value_counts().plot(kind='pie')"
   ]
  },
  {
   "cell_type": "code",
   "execution_count": 25,
   "id": "9b814fa7-aac7-4952-af5b-231fbf7c0d8a",
   "metadata": {},
   "outputs": [
    {
     "data": {
      "text/plain": [
       "<Axes: ylabel='Frequency'>"
      ]
     },
     "execution_count": 25,
     "metadata": {},
     "output_type": "execute_result"
    },
    {
     "data": {
      "image/png": "[encoded data removed]",
      "text/plain": [
       "<Figure size 640x480 with 1 Axes>"
      ]
     },
     "metadata": {},
     "output_type": "display_data"
    }
   ],
   "source": [
    "new = df['Price']\n",
    "new.plot(kind='hist')"
   ]
  },
  {
   "cell_type": "code",
   "execution_count": null,
   "id": "ee5fabb3-5f0b-4658-8a9a-2ca19d0f2c25",
   "metadata": {},
   "outputs": [],
   "source": []
  }
 ],
 "metadata": {
  "kernelspec": {
   "display_name": "Python 3 (ipykernel)",
   "language": "python",
   "name": "python3"
  },
  "language_info": {
   "codemirror_mode": {
    "name": "ipython",
    "version": 3
   },
   "file_extension": ".py",
   "mimetype": "text/x-python",
   "name": "python",
   "nbconvert_exporter": "python",
   "pygments_lexer": "ipython3",
   "version": "3.12.1"
  }
 },
 "nbformat": 4,
 "nbformat_minor": 5
}
